{
  "cells": [
    {
      "cell_type": "markdown",
      "metadata": {
        "id": "view-in-github",
        "colab_type": "text"
      },
      "source": [
        "<a href=\"https://colab.research.google.com/github/Susanwc1298/DSrepo/blob/main/SQL_CRUD_practise.ipynb\" target=\"_parent\"><img src=\"https://colab.research.google.com/assets/colab-badge.svg\" alt=\"Open In Colab\"/></a>"
      ]
    },
    {
      "cell_type": "markdown",
      "metadata": {
        "id": "rC5dTmT4Ljf6"
      },
      "source": [
        "# SQL - (Structured Query Language) \n",
        "It is the language that we use when we try to interact with the database or we can say that SQL is basically a standard that all relational DBMS like Mysql implement.\n",
        "\n",
        "Mysql\n",
        "\n",
        "we will be using mysql throughout these tutorial but the concepts that we will learn can be applied to pretty much any relational databases."
      ]
    },
    {
      "cell_type": "markdown",
      "metadata": {
        "id": "Ga2axL6xLjf7"
      },
      "source": [
        "# Working with Databases\n",
        "in order to start working with databases, we first need to create them and then select them to use that databases, after that we can make table in those databases to store the various data in tabular format as per our requirement.\n",
        "- to create a database we use - \n",
        "**CREATE DATABASE mydb**(we have already created a database)\n",
        "<p>once the database is created , we can select that databases, by doing this we explicitly tell mysql that out of all the available databases which one of them we want to work upon.</p>\n",
        "- to select a database\n",
        "**\"USE mydb\"**\n"
      ]
    },
    {
      "cell_type": "markdown",
      "metadata": {
        "id": "orGusXKvLjf7"
      },
      "source": [
        "# Why SQL is so important?\n",
        "[Why SQL is in demand](https://www.freecodecamp.org/news/why-learn-sql/)\n",
        "\n",
        "---\n",
        "[Why you Should Learn SQL](https://www.youtube.com/watch?v=wr7Qwp0cBzI)\n"
      ]
    },
    {
      "cell_type": "markdown",
      "source": [
        "### **RUN NEXT 5 CELLS TO CREATE DATABASE, TABLE AND TO INSERT DATA**"
      ],
      "metadata": {
        "id": "Z6kE0veFzWfo"
      }
    },
    {
      "cell_type": "code",
      "execution_count": 1,
      "metadata": {
        "id": "NtA0LkJp3PfT"
      },
      "outputs": [],
      "source": [
        "## JUST RUN THIS CELL\n",
        "import sqlite3\n",
        "import pandas as pd\n",
        "\n",
        "df = pd.DataFrame({\"id\": [1, 2, 3, 4, 5],\n",
        "    \"name\": [\"David Beggam\", \"Rahul Josh\",\n",
        "                            \"Joe Kamal\", \"Micheal John\", \"Sarath Kumar\"],\n",
        "                  \"address\": [\"California\", \"Mumbai\",\n",
        "                              \"Banglore\", \"Delhi\", \"Chennai\"]})\n",
        "\n",
        "df.set_index(\"id\", inplace=True)"
      ]
    },
    {
      "cell_type": "code",
      "execution_count": 2,
      "metadata": {
        "id": "wUfxjmFq3PfV",
        "outputId": "e818cfd2-ceee-4d21-ce33-3b6b75afbd88",
        "colab": {
          "base_uri": "https://localhost:8080/",
          "height": 237
        }
      },
      "outputs": [
        {
          "output_type": "execute_result",
          "data": {
            "text/plain": [
              "            name     address\n",
              "id                          \n",
              "1   David Beggam  California\n",
              "2     Rahul Josh      Mumbai\n",
              "3      Joe Kamal    Banglore\n",
              "4   Micheal John       Delhi\n",
              "5   Sarath Kumar     Chennai"
            ],
            "text/html": [
              "\n",
              "  <div id=\"df-5fd367e9-f050-4c22-8c0c-58df656be9a9\">\n",
              "    <div class=\"colab-df-container\">\n",
              "      <div>\n",
              "<style scoped>\n",
              "    .dataframe tbody tr th:only-of-type {\n",
              "        vertical-align: middle;\n",
              "    }\n",
              "\n",
              "    .dataframe tbody tr th {\n",
              "        vertical-align: top;\n",
              "    }\n",
              "\n",
              "    .dataframe thead th {\n",
              "        text-align: right;\n",
              "    }\n",
              "</style>\n",
              "<table border=\"1\" class=\"dataframe\">\n",
              "  <thead>\n",
              "    <tr style=\"text-align: right;\">\n",
              "      <th></th>\n",
              "      <th>name</th>\n",
              "      <th>address</th>\n",
              "    </tr>\n",
              "    <tr>\n",
              "      <th>id</th>\n",
              "      <th></th>\n",
              "      <th></th>\n",
              "    </tr>\n",
              "  </thead>\n",
              "  <tbody>\n",
              "    <tr>\n",
              "      <th>1</th>\n",
              "      <td>David Beggam</td>\n",
              "      <td>California</td>\n",
              "    </tr>\n",
              "    <tr>\n",
              "      <th>2</th>\n",
              "      <td>Rahul Josh</td>\n",
              "      <td>Mumbai</td>\n",
              "    </tr>\n",
              "    <tr>\n",
              "      <th>3</th>\n",
              "      <td>Joe Kamal</td>\n",
              "      <td>Banglore</td>\n",
              "    </tr>\n",
              "    <tr>\n",
              "      <th>4</th>\n",
              "      <td>Micheal John</td>\n",
              "      <td>Delhi</td>\n",
              "    </tr>\n",
              "    <tr>\n",
              "      <th>5</th>\n",
              "      <td>Sarath Kumar</td>\n",
              "      <td>Chennai</td>\n",
              "    </tr>\n",
              "  </tbody>\n",
              "</table>\n",
              "</div>\n",
              "      <button class=\"colab-df-convert\" onclick=\"convertToInteractive('df-5fd367e9-f050-4c22-8c0c-58df656be9a9')\"\n",
              "              title=\"Convert this dataframe to an interactive table.\"\n",
              "              style=\"display:none;\">\n",
              "        \n",
              "  <svg xmlns=\"http://www.w3.org/2000/svg\" height=\"24px\"viewBox=\"0 0 24 24\"\n",
              "       width=\"24px\">\n",
              "    <path d=\"M0 0h24v24H0V0z\" fill=\"none\"/>\n",
              "    <path d=\"M18.56 5.44l.94 2.06.94-2.06 2.06-.94-2.06-.94-.94-2.06-.94 2.06-2.06.94zm-11 1L8.5 8.5l.94-2.06 2.06-.94-2.06-.94L8.5 2.5l-.94 2.06-2.06.94zm10 10l.94 2.06.94-2.06 2.06-.94-2.06-.94-.94-2.06-.94 2.06-2.06.94z\"/><path d=\"M17.41 7.96l-1.37-1.37c-.4-.4-.92-.59-1.43-.59-.52 0-1.04.2-1.43.59L10.3 9.45l-7.72 7.72c-.78.78-.78 2.05 0 2.83L4 21.41c.39.39.9.59 1.41.59.51 0 1.02-.2 1.41-.59l7.78-7.78 2.81-2.81c.8-.78.8-2.07 0-2.86zM5.41 20L4 18.59l7.72-7.72 1.47 1.35L5.41 20z\"/>\n",
              "  </svg>\n",
              "      </button>\n",
              "      \n",
              "  <style>\n",
              "    .colab-df-container {\n",
              "      display:flex;\n",
              "      flex-wrap:wrap;\n",
              "      gap: 12px;\n",
              "    }\n",
              "\n",
              "    .colab-df-convert {\n",
              "      background-color: #E8F0FE;\n",
              "      border: none;\n",
              "      border-radius: 50%;\n",
              "      cursor: pointer;\n",
              "      display: none;\n",
              "      fill: #1967D2;\n",
              "      height: 32px;\n",
              "      padding: 0 0 0 0;\n",
              "      width: 32px;\n",
              "    }\n",
              "\n",
              "    .colab-df-convert:hover {\n",
              "      background-color: #E2EBFA;\n",
              "      box-shadow: 0px 1px 2px rgba(60, 64, 67, 0.3), 0px 1px 3px 1px rgba(60, 64, 67, 0.15);\n",
              "      fill: #174EA6;\n",
              "    }\n",
              "\n",
              "    [theme=dark] .colab-df-convert {\n",
              "      background-color: #3B4455;\n",
              "      fill: #D2E3FC;\n",
              "    }\n",
              "\n",
              "    [theme=dark] .colab-df-convert:hover {\n",
              "      background-color: #434B5C;\n",
              "      box-shadow: 0px 1px 3px 1px rgba(0, 0, 0, 0.15);\n",
              "      filter: drop-shadow(0px 1px 2px rgba(0, 0, 0, 0.3));\n",
              "      fill: #FFFFFF;\n",
              "    }\n",
              "  </style>\n",
              "\n",
              "      <script>\n",
              "        const buttonEl =\n",
              "          document.querySelector('#df-5fd367e9-f050-4c22-8c0c-58df656be9a9 button.colab-df-convert');\n",
              "        buttonEl.style.display =\n",
              "          google.colab.kernel.accessAllowed ? 'block' : 'none';\n",
              "\n",
              "        async function convertToInteractive(key) {\n",
              "          const element = document.querySelector('#df-5fd367e9-f050-4c22-8c0c-58df656be9a9');\n",
              "          const dataTable =\n",
              "            await google.colab.kernel.invokeFunction('convertToInteractive',\n",
              "                                                     [key], {});\n",
              "          if (!dataTable) return;\n",
              "\n",
              "          const docLinkHtml = 'Like what you see? Visit the ' +\n",
              "            '<a target=\"_blank\" href=https://colab.research.google.com/notebooks/data_table.ipynb>data table notebook</a>'\n",
              "            + ' to learn more about interactive tables.';\n",
              "          element.innerHTML = '';\n",
              "          dataTable['output_type'] = 'display_data';\n",
              "          await google.colab.output.renderOutput(dataTable, element);\n",
              "          const docLink = document.createElement('div');\n",
              "          docLink.innerHTML = docLinkHtml;\n",
              "          element.appendChild(docLink);\n",
              "        }\n",
              "      </script>\n",
              "    </div>\n",
              "  </div>\n",
              "  "
            ]
          },
          "metadata": {},
          "execution_count": 2
        }
      ],
      "source": [
        "# Run this and look at your dataframe which you will pass into database\n",
        "df.head()"
      ]
    },
    {
      "cell_type": "code",
      "execution_count": 3,
      "metadata": {
        "id": "VOfSaB8_3PfW"
      },
      "outputs": [],
      "source": [
        "# run this to create and connect to database\n",
        "connection = sqlite3.connect('cloud.db')\n",
        "df.to_sql('customers', connection)"
      ]
    },
    {
      "cell_type": "code",
      "execution_count": 4,
      "metadata": {
        "id": "Wf6YGN4Y3PfW"
      },
      "outputs": [],
      "source": [
        "# load sql extension\n",
        "%load_ext sql"
      ]
    },
    {
      "cell_type": "code",
      "execution_count": 5,
      "metadata": {
        "id": "XcEgvw8I3PfX",
        "colab": {
          "base_uri": "https://localhost:8080/",
          "height": 35
        },
        "outputId": "d9ad0e4c-62d8-4526-f3c6-2107fecbd251"
      },
      "outputs": [
        {
          "output_type": "execute_result",
          "data": {
            "text/plain": [
              "'Connected: @cloud.db'"
            ],
            "application/vnd.google.colaboratory.intrinsic+json": {
              "type": "string"
            }
          },
          "metadata": {},
          "execution_count": 5
        }
      ],
      "source": [
        "# connecting to cloud.db\n",
        "%sql sqlite:///cloud.db"
      ]
    },
    {
      "cell_type": "markdown",
      "metadata": {
        "id": "y0rd5DAuLjf9"
      },
      "source": [
        "## Hoorayy!!Now it's time to check your skill on sql . Write a code for below questions\n",
        "\n",
        "##### **NOTE** : Do not remove %%sql magic command as it will throw error if you run sql query without it."
      ]
    },
    {
      "cell_type": "markdown",
      "metadata": {
        "id": "yOxU1NiNLjf9"
      },
      "source": [
        "### 1.Show all the data inside the table\"customers\""
      ]
    },
    {
      "cell_type": "code",
      "execution_count": 6,
      "metadata": {
        "id": "J9GwxDdFLjf-",
        "scrolled": false,
        "outputId": "0bfc47b1-09c1-4eb5-99f5-5b67542063b7",
        "colab": {
          "base_uri": "https://localhost:8080/",
          "height": 182
        }
      },
      "outputs": [
        {
          "output_type": "stream",
          "name": "stdout",
          "text": [
            " * sqlite:///cloud.db\n",
            "Done.\n"
          ]
        },
        {
          "output_type": "execute_result",
          "data": {
            "text/plain": [
              "[(1, 'David Beggam', 'California'),\n",
              " (2, 'Rahul Josh', 'Mumbai'),\n",
              " (3, 'Joe Kamal', 'Banglore'),\n",
              " (4, 'Micheal John', 'Delhi'),\n",
              " (5, 'Sarath Kumar', 'Chennai')]"
            ],
            "text/html": [
              "<table>\n",
              "    <thead>\n",
              "        <tr>\n",
              "            <th>id</th>\n",
              "            <th>name</th>\n",
              "            <th>address</th>\n",
              "        </tr>\n",
              "    </thead>\n",
              "    <tbody>\n",
              "        <tr>\n",
              "            <td>1</td>\n",
              "            <td>David Beggam</td>\n",
              "            <td>California</td>\n",
              "        </tr>\n",
              "        <tr>\n",
              "            <td>2</td>\n",
              "            <td>Rahul Josh</td>\n",
              "            <td>Mumbai</td>\n",
              "        </tr>\n",
              "        <tr>\n",
              "            <td>3</td>\n",
              "            <td>Joe Kamal</td>\n",
              "            <td>Banglore</td>\n",
              "        </tr>\n",
              "        <tr>\n",
              "            <td>4</td>\n",
              "            <td>Micheal John</td>\n",
              "            <td>Delhi</td>\n",
              "        </tr>\n",
              "        <tr>\n",
              "            <td>5</td>\n",
              "            <td>Sarath Kumar</td>\n",
              "            <td>Chennai</td>\n",
              "        </tr>\n",
              "    </tbody>\n",
              "</table>"
            ]
          },
          "metadata": {},
          "execution_count": 6
        }
      ],
      "source": [
        "%%sql\n",
        "select * from customers\n"
      ]
    },
    {
      "cell_type": "markdown",
      "source": [
        "### **Check This link to See How to Limit Customer Data**\n",
        "\n",
        "https://www.w3schools.com/sql/sql_top.asp"
      ],
      "metadata": {
        "id": "G85ZNIKQQ8AG"
      }
    },
    {
      "cell_type": "markdown",
      "metadata": {
        "id": "sYDL_XYxLjf-"
      },
      "source": [
        "<b>##2. LIMIT CUSTOMERS DATA TO 3</b>"
      ]
    },
    {
      "cell_type": "code",
      "execution_count": 7,
      "metadata": {
        "id": "FnLpWeRPLjf-",
        "outputId": "c2e5b2e7-9403-4663-a4b2-92de7d41f6a2",
        "scrolled": true,
        "colab": {
          "base_uri": "https://localhost:8080/",
          "height": 139
        }
      },
      "outputs": [
        {
          "output_type": "stream",
          "name": "stdout",
          "text": [
            " * sqlite:///cloud.db\n",
            "Done.\n"
          ]
        },
        {
          "output_type": "execute_result",
          "data": {
            "text/plain": [
              "[(1, 'David Beggam', 'California'),\n",
              " (2, 'Rahul Josh', 'Mumbai'),\n",
              " (3, 'Joe Kamal', 'Banglore')]"
            ],
            "text/html": [
              "<table>\n",
              "    <thead>\n",
              "        <tr>\n",
              "            <th>id</th>\n",
              "            <th>name</th>\n",
              "            <th>address</th>\n",
              "        </tr>\n",
              "    </thead>\n",
              "    <tbody>\n",
              "        <tr>\n",
              "            <td>1</td>\n",
              "            <td>David Beggam</td>\n",
              "            <td>California</td>\n",
              "        </tr>\n",
              "        <tr>\n",
              "            <td>2</td>\n",
              "            <td>Rahul Josh</td>\n",
              "            <td>Mumbai</td>\n",
              "        </tr>\n",
              "        <tr>\n",
              "            <td>3</td>\n",
              "            <td>Joe Kamal</td>\n",
              "            <td>Banglore</td>\n",
              "        </tr>\n",
              "    </tbody>\n",
              "</table>"
            ]
          },
          "metadata": {},
          "execution_count": 7
        }
      ],
      "source": [
        "%%sql\n",
        "\n",
        "select * from customers LIMIT 3\n"
      ]
    },
    {
      "cell_type": "markdown",
      "metadata": {
        "id": "Laz8Riy7Ljf_"
      },
      "source": [
        "<b>3.Select all the data of employees that work in Chennai and Mumbai </b>"
      ]
    },
    {
      "cell_type": "code",
      "execution_count": 13,
      "metadata": {
        "id": "JYtI6A7bLjf_",
        "outputId": "c5d943d3-21e1-4a9a-e0c5-1bf605954153",
        "scrolled": false,
        "colab": {
          "base_uri": "https://localhost:8080/",
          "height": 118
        }
      },
      "outputs": [
        {
          "output_type": "stream",
          "name": "stdout",
          "text": [
            " * sqlite:///cloud.db\n",
            "Done.\n"
          ]
        },
        {
          "output_type": "execute_result",
          "data": {
            "text/plain": [
              "[(2, 'Rahul Josh', 'Mumbai'), (5, 'Sarath Kumar', 'Chennai')]"
            ],
            "text/html": [
              "<table>\n",
              "    <thead>\n",
              "        <tr>\n",
              "            <th>id</th>\n",
              "            <th>name</th>\n",
              "            <th>address</th>\n",
              "        </tr>\n",
              "    </thead>\n",
              "    <tbody>\n",
              "        <tr>\n",
              "            <td>2</td>\n",
              "            <td>Rahul Josh</td>\n",
              "            <td>Mumbai</td>\n",
              "        </tr>\n",
              "        <tr>\n",
              "            <td>5</td>\n",
              "            <td>Sarath Kumar</td>\n",
              "            <td>Chennai</td>\n",
              "        </tr>\n",
              "    </tbody>\n",
              "</table>"
            ]
          },
          "metadata": {},
          "execution_count": 13
        }
      ],
      "source": [
        "%%sql\n",
        "\n",
        "select * from customers where address IN (\"Chennai\", \"Mumbai\");\n"
      ]
    },
    {
      "cell_type": "markdown",
      "metadata": {
        "id": "yNOnlJW0Ljf_"
      },
      "source": [
        "<b>4. select name starting with letter S</b>"
      ]
    },
    {
      "cell_type": "code",
      "execution_count": 14,
      "metadata": {
        "id": "956qOvmkLjf_",
        "outputId": "80aedb34-7a62-4189-fa2b-ba31eefe6366",
        "scrolled": false,
        "colab": {
          "base_uri": "https://localhost:8080/",
          "height": 96
        }
      },
      "outputs": [
        {
          "output_type": "stream",
          "name": "stdout",
          "text": [
            " * sqlite:///cloud.db\n",
            "Done.\n"
          ]
        },
        {
          "output_type": "execute_result",
          "data": {
            "text/plain": [
              "[(5, 'Sarath Kumar', 'Chennai')]"
            ],
            "text/html": [
              "<table>\n",
              "    <thead>\n",
              "        <tr>\n",
              "            <th>id</th>\n",
              "            <th>name</th>\n",
              "            <th>address</th>\n",
              "        </tr>\n",
              "    </thead>\n",
              "    <tbody>\n",
              "        <tr>\n",
              "            <td>5</td>\n",
              "            <td>Sarath Kumar</td>\n",
              "            <td>Chennai</td>\n",
              "        </tr>\n",
              "    </tbody>\n",
              "</table>"
            ]
          },
          "metadata": {},
          "execution_count": 14
        }
      ],
      "source": [
        "%%sql\n",
        "\n",
        "select * from customers where name like 'S%'\n"
      ]
    },
    {
      "cell_type": "markdown",
      "metadata": {
        "id": "a4F2MbGVLjf_"
      },
      "source": [
        "<b>##5. select the col\"address\" from the table\"customers\" </b>"
      ]
    },
    {
      "cell_type": "code",
      "execution_count": 15,
      "metadata": {
        "id": "DhyB5kUbLjgA",
        "outputId": "5f919261-f8cc-4166-9d94-0bfe118267fc",
        "scrolled": true,
        "colab": {
          "base_uri": "https://localhost:8080/",
          "height": 182
        }
      },
      "outputs": [
        {
          "output_type": "stream",
          "name": "stdout",
          "text": [
            " * sqlite:///cloud.db\n",
            "Done.\n"
          ]
        },
        {
          "output_type": "execute_result",
          "data": {
            "text/plain": [
              "[('California',), ('Mumbai',), ('Banglore',), ('Delhi',), ('Chennai',)]"
            ],
            "text/html": [
              "<table>\n",
              "    <thead>\n",
              "        <tr>\n",
              "            <th>address</th>\n",
              "        </tr>\n",
              "    </thead>\n",
              "    <tbody>\n",
              "        <tr>\n",
              "            <td>California</td>\n",
              "        </tr>\n",
              "        <tr>\n",
              "            <td>Mumbai</td>\n",
              "        </tr>\n",
              "        <tr>\n",
              "            <td>Banglore</td>\n",
              "        </tr>\n",
              "        <tr>\n",
              "            <td>Delhi</td>\n",
              "        </tr>\n",
              "        <tr>\n",
              "            <td>Chennai</td>\n",
              "        </tr>\n",
              "    </tbody>\n",
              "</table>"
            ]
          },
          "metadata": {},
          "execution_count": 15
        }
      ],
      "source": [
        "%%sql\n",
        "\n",
        "select address from customers"
      ]
    },
    {
      "cell_type": "markdown",
      "metadata": {
        "id": "2is1BoOBLjgA"
      },
      "source": [
        "<b>##6.select column \"address\" where city not in delhi</b>"
      ]
    },
    {
      "cell_type": "code",
      "execution_count": 16,
      "metadata": {
        "id": "pQ91gfkwLjgA",
        "outputId": "dca6f300-e9a2-4e4e-a46c-044625c20e60",
        "scrolled": true,
        "colab": {
          "base_uri": "https://localhost:8080/",
          "height": 160
        }
      },
      "outputs": [
        {
          "output_type": "stream",
          "name": "stdout",
          "text": [
            " * sqlite:///cloud.db\n",
            "Done.\n"
          ]
        },
        {
          "output_type": "execute_result",
          "data": {
            "text/plain": [
              "[('California',), ('Mumbai',), ('Banglore',), ('Chennai',)]"
            ],
            "text/html": [
              "<table>\n",
              "    <thead>\n",
              "        <tr>\n",
              "            <th>address</th>\n",
              "        </tr>\n",
              "    </thead>\n",
              "    <tbody>\n",
              "        <tr>\n",
              "            <td>California</td>\n",
              "        </tr>\n",
              "        <tr>\n",
              "            <td>Mumbai</td>\n",
              "        </tr>\n",
              "        <tr>\n",
              "            <td>Banglore</td>\n",
              "        </tr>\n",
              "        <tr>\n",
              "            <td>Chennai</td>\n",
              "        </tr>\n",
              "    </tbody>\n",
              "</table>"
            ]
          },
          "metadata": {},
          "execution_count": 16
        }
      ],
      "source": [
        "%%sql\n",
        "select address from customers where address<>'Delhi'\n",
        "\n"
      ]
    },
    {
      "cell_type": "markdown",
      "source": [
        "### **Check this to see how to use asc, desc in SQL**\n",
        "\n",
        "https://www.w3schools.com/sql/sql_ref_asc.asp\n",
        "\n",
        "https://www.w3schools.com/sql/sql_ref_desc.asp"
      ],
      "metadata": {
        "id": "y0fmnqe4Uyy3"
      }
    },
    {
      "cell_type": "markdown",
      "metadata": {
        "id": "7OuFnJ9LLjgA"
      },
      "source": [
        "<b>7. sort the column: name in asc and addrress in desc</b>"
      ]
    },
    {
      "cell_type": "code",
      "execution_count": 17,
      "metadata": {
        "id": "9umkztFJLjgB",
        "outputId": "dfcec895-4219-4089-a18b-6939c43e3d06",
        "scrolled": true,
        "colab": {
          "base_uri": "https://localhost:8080/",
          "height": 182
        }
      },
      "outputs": [
        {
          "output_type": "stream",
          "name": "stdout",
          "text": [
            " * sqlite:///cloud.db\n",
            "Done.\n"
          ]
        },
        {
          "output_type": "execute_result",
          "data": {
            "text/plain": [
              "[(1, 'David Beggam', 'California'),\n",
              " (3, 'Joe Kamal', 'Banglore'),\n",
              " (4, 'Micheal John', 'Delhi'),\n",
              " (2, 'Rahul Josh', 'Mumbai'),\n",
              " (5, 'Sarath Kumar', 'Chennai')]"
            ],
            "text/html": [
              "<table>\n",
              "    <thead>\n",
              "        <tr>\n",
              "            <th>id</th>\n",
              "            <th>name</th>\n",
              "            <th>address</th>\n",
              "        </tr>\n",
              "    </thead>\n",
              "    <tbody>\n",
              "        <tr>\n",
              "            <td>1</td>\n",
              "            <td>David Beggam</td>\n",
              "            <td>California</td>\n",
              "        </tr>\n",
              "        <tr>\n",
              "            <td>3</td>\n",
              "            <td>Joe Kamal</td>\n",
              "            <td>Banglore</td>\n",
              "        </tr>\n",
              "        <tr>\n",
              "            <td>4</td>\n",
              "            <td>Micheal John</td>\n",
              "            <td>Delhi</td>\n",
              "        </tr>\n",
              "        <tr>\n",
              "            <td>2</td>\n",
              "            <td>Rahul Josh</td>\n",
              "            <td>Mumbai</td>\n",
              "        </tr>\n",
              "        <tr>\n",
              "            <td>5</td>\n",
              "            <td>Sarath Kumar</td>\n",
              "            <td>Chennai</td>\n",
              "        </tr>\n",
              "    </tbody>\n",
              "</table>"
            ]
          },
          "metadata": {},
          "execution_count": 17
        }
      ],
      "source": [
        "%%sql\n",
        "select * from customers\n",
        "ORDER BY name asc, address desc\n"
      ]
    },
    {
      "cell_type": "markdown",
      "metadata": {
        "id": "qhybMo0ELjgB"
      },
      "source": [
        "<b>8.  Add an customer name  called \"Mary\" ,with address in 'Goa'</b>"
      ]
    },
    {
      "cell_type": "code",
      "execution_count": 18,
      "metadata": {
        "id": "gEOyLV0mLjgB",
        "outputId": "6c6ca0e3-7663-4eeb-9a5a-1d59ded40fa4",
        "scrolled": true,
        "colab": {
          "base_uri": "https://localhost:8080/"
        }
      },
      "outputs": [
        {
          "output_type": "stream",
          "name": "stdout",
          "text": [
            " * sqlite:///cloud.db\n",
            "1 rows affected.\n"
          ]
        },
        {
          "output_type": "execute_result",
          "data": {
            "text/plain": [
              "[]"
            ]
          },
          "metadata": {},
          "execution_count": 18
        }
      ],
      "source": [
        "%%sql\n",
        "\n",
        "insert into customers values (6, \"Mary\", \"Goa\")\n"
      ]
    },
    {
      "cell_type": "markdown",
      "source": [
        "### **Check this how to use update keyword in sql**\n",
        "\n",
        "https://www.w3schools.com/sql/sql_update.asp"
      ],
      "metadata": {
        "id": "F20SEsJAV4g2"
      }
    },
    {
      "cell_type": "markdown",
      "metadata": {
        "id": "Z7CA_MLKLjgB"
      },
      "source": [
        "<b>9. update address to gujarat where id is 1</b>"
      ]
    },
    {
      "cell_type": "code",
      "execution_count": 19,
      "metadata": {
        "id": "pLIum-Hw3Pfd",
        "outputId": "afdd7ca8-dd27-4aae-b928-c0bc1b2ecd09",
        "colab": {
          "base_uri": "https://localhost:8080/"
        }
      },
      "outputs": [
        {
          "output_type": "stream",
          "name": "stdout",
          "text": [
            " * sqlite:///cloud.db\n",
            "1 rows affected.\n"
          ]
        },
        {
          "output_type": "execute_result",
          "data": {
            "text/plain": [
              "[]"
            ]
          },
          "metadata": {},
          "execution_count": 19
        }
      ],
      "source": [
        "%%sql\n",
        "update customers set address=\"Gujarat\" where id=1\n"
      ]
    },
    {
      "cell_type": "markdown",
      "source": [
        "### **Check this how you to use delete keyword in sql**\n",
        "\n",
        "https://www.w3schools.com/sql/sql_delete.asp"
      ],
      "metadata": {
        "id": "GcctJlvWWC-5"
      }
    },
    {
      "cell_type": "markdown",
      "metadata": {
        "id": "WyKYppVDLjgC"
      },
      "source": [
        "<b>10.delete the record where address='mumbai'</b>"
      ]
    },
    {
      "cell_type": "code",
      "execution_count": 21,
      "metadata": {
        "id": "SE5b9b2kLjgC",
        "outputId": "10ca8583-1e6a-4225-f18d-dc41e3f48144",
        "scrolled": false,
        "colab": {
          "base_uri": "https://localhost:8080/"
        }
      },
      "outputs": [
        {
          "output_type": "stream",
          "name": "stdout",
          "text": [
            " * sqlite:///cloud.db\n",
            "1 rows affected.\n"
          ]
        },
        {
          "output_type": "execute_result",
          "data": {
            "text/plain": [
              "[]"
            ]
          },
          "metadata": {},
          "execution_count": 21
        }
      ],
      "source": [
        "%%sql\n",
        "delete from customers where address=\"Mumbai\"\n"
      ]
    },
    {
      "cell_type": "markdown",
      "source": [
        "### **Check this to see how you create temporary name for the column**\n",
        "\n",
        "https://www.w3schools.com/sql/sql_alias.asp#:~:text=SQL%20aliases%20are%20used%20to,created%20with%20the%20AS%20keyword."
      ],
      "metadata": {
        "id": "KqBZGKRuVInS"
      }
    },
    {
      "cell_type": "markdown",
      "metadata": {
        "id": "Bt6BCu11LjgC"
      },
      "source": [
        "<b>11.create a temporary name for the column \"name\"with 'N' and \"address\"as 'A'</b>"
      ]
    },
    {
      "cell_type": "code",
      "execution_count": 22,
      "metadata": {
        "id": "SBpN142pLjgC",
        "outputId": "3fe13d60-d801-42c3-96cb-b64968ce1c75",
        "scrolled": false,
        "colab": {
          "base_uri": "https://localhost:8080/",
          "height": 182
        }
      },
      "outputs": [
        {
          "output_type": "stream",
          "name": "stdout",
          "text": [
            " * sqlite:///cloud.db\n",
            "Done.\n"
          ]
        },
        {
          "output_type": "execute_result",
          "data": {
            "text/plain": [
              "[('David Beggam', 'Gujarat'),\n",
              " ('Joe Kamal', 'Banglore'),\n",
              " ('Micheal John', 'Delhi'),\n",
              " ('Sarath Kumar', 'Chennai'),\n",
              " ('Mary', 'Goa')]"
            ],
            "text/html": [
              "<table>\n",
              "    <thead>\n",
              "        <tr>\n",
              "            <th>N</th>\n",
              "            <th>A</th>\n",
              "        </tr>\n",
              "    </thead>\n",
              "    <tbody>\n",
              "        <tr>\n",
              "            <td>David Beggam</td>\n",
              "            <td>Gujarat</td>\n",
              "        </tr>\n",
              "        <tr>\n",
              "            <td>Joe Kamal</td>\n",
              "            <td>Banglore</td>\n",
              "        </tr>\n",
              "        <tr>\n",
              "            <td>Micheal John</td>\n",
              "            <td>Delhi</td>\n",
              "        </tr>\n",
              "        <tr>\n",
              "            <td>Sarath Kumar</td>\n",
              "            <td>Chennai</td>\n",
              "        </tr>\n",
              "        <tr>\n",
              "            <td>Mary</td>\n",
              "            <td>Goa</td>\n",
              "        </tr>\n",
              "    </tbody>\n",
              "</table>"
            ]
          },
          "metadata": {},
          "execution_count": 22
        }
      ],
      "source": [
        "%%sql \n",
        "select name as \"N\", address as \"A\" from customers\n",
        "\n"
      ]
    },
    {
      "cell_type": "markdown",
      "source": [
        "### **Check this to see how to concat in sqlite**\n",
        "\n",
        "https://www.sqlitetutorial.net/sqlite-string-functions/sqlite-concat/"
      ],
      "metadata": {
        "id": "Lw3FBmlJVY1z"
      }
    },
    {
      "cell_type": "markdown",
      "metadata": {
        "id": "xSYS6d1JLjgC"
      },
      "source": [
        "<b>12. concat column's \"name\" and \"address\" and name it as customerdb</b>"
      ]
    },
    {
      "cell_type": "code",
      "execution_count": 25,
      "metadata": {
        "id": "hInKNTIrLjgC",
        "outputId": "df30c217-bddc-414d-9e16-107ef76e1c3a",
        "scrolled": true,
        "colab": {
          "base_uri": "https://localhost:8080/",
          "height": 182
        }
      },
      "outputs": [
        {
          "output_type": "stream",
          "name": "stdout",
          "text": [
            " * sqlite:///cloud.db\n",
            "Done.\n"
          ]
        },
        {
          "output_type": "execute_result",
          "data": {
            "text/plain": [
              "[('David Beggam , Gujarat',),\n",
              " ('Joe Kamal , Banglore',),\n",
              " ('Micheal John , Delhi',),\n",
              " ('Sarath Kumar , Chennai',),\n",
              " ('Mary , Goa',)]"
            ],
            "text/html": [
              "<table>\n",
              "    <thead>\n",
              "        <tr>\n",
              "            <th>customerdb</th>\n",
              "        </tr>\n",
              "    </thead>\n",
              "    <tbody>\n",
              "        <tr>\n",
              "            <td>David Beggam , Gujarat</td>\n",
              "        </tr>\n",
              "        <tr>\n",
              "            <td>Joe Kamal , Banglore</td>\n",
              "        </tr>\n",
              "        <tr>\n",
              "            <td>Micheal John , Delhi</td>\n",
              "        </tr>\n",
              "        <tr>\n",
              "            <td>Sarath Kumar , Chennai</td>\n",
              "        </tr>\n",
              "        <tr>\n",
              "            <td>Mary , Goa</td>\n",
              "        </tr>\n",
              "    </tbody>\n",
              "</table>"
            ]
          },
          "metadata": {},
          "execution_count": 25
        }
      ],
      "source": [
        "%%sql\n",
        "\n",
        "select name || ' , ' || address as \"customerdb\" from customers"
      ]
    },
    {
      "cell_type": "markdown",
      "source": [
        "### **Check this how to use group by**\n",
        "\n",
        "https://www.w3schools.com/sql/sql_groupby.asp"
      ],
      "metadata": {
        "id": "QPOXAevaVtzD"
      }
    },
    {
      "cell_type": "markdown",
      "metadata": {
        "id": "mDnHPfHTLjgC"
      },
      "source": [
        "<b>##13 select address and also count the column \"name\" and group by address </b> "
      ]
    },
    {
      "cell_type": "code",
      "execution_count": 27,
      "metadata": {
        "id": "k8oUNVj6LjgD",
        "outputId": "3a619260-0a99-45c8-f050-b184bc67e285",
        "scrolled": true,
        "colab": {
          "base_uri": "https://localhost:8080/",
          "height": 182
        }
      },
      "outputs": [
        {
          "output_type": "stream",
          "name": "stdout",
          "text": [
            " * sqlite:///cloud.db\n",
            "Done.\n"
          ]
        },
        {
          "output_type": "execute_result",
          "data": {
            "text/plain": [
              "[('Banglore', 1), ('Chennai', 1), ('Delhi', 1), ('Goa', 1), ('Gujarat', 1)]"
            ],
            "text/html": [
              "<table>\n",
              "    <thead>\n",
              "        <tr>\n",
              "            <th>address</th>\n",
              "            <th>name</th>\n",
              "        </tr>\n",
              "    </thead>\n",
              "    <tbody>\n",
              "        <tr>\n",
              "            <td>Banglore</td>\n",
              "            <td>1</td>\n",
              "        </tr>\n",
              "        <tr>\n",
              "            <td>Chennai</td>\n",
              "            <td>1</td>\n",
              "        </tr>\n",
              "        <tr>\n",
              "            <td>Delhi</td>\n",
              "            <td>1</td>\n",
              "        </tr>\n",
              "        <tr>\n",
              "            <td>Goa</td>\n",
              "            <td>1</td>\n",
              "        </tr>\n",
              "        <tr>\n",
              "            <td>Gujarat</td>\n",
              "            <td>1</td>\n",
              "        </tr>\n",
              "    </tbody>\n",
              "</table>"
            ]
          },
          "metadata": {},
          "execution_count": 27
        }
      ],
      "source": [
        "%%sql\n",
        "\n",
        "\n",
        "select address, count(name) as name from customers group by address "
      ]
    },
    {
      "cell_type": "markdown",
      "metadata": {
        "id": "irGeDjEaLjgD"
      },
      "source": [
        "<b>Congratulations !! You Have Just Completed your first step towards becoming an SQL Ninja!</b>"
      ]
    },
    {
      "cell_type": "markdown",
      "metadata": {
        "id": "ynFRizm4Lsy2"
      },
      "source": [
        "# **FEEDBACK FORM** #\n",
        "https://docs.google.com/forms/d/e/1FAIpQLScnAaAKvph9R3vINyCtOOMiav-tSMsRGlJReMaHyPjsXDlTIA/viewform"
      ]
    }
  ],
  "metadata": {
    "colab": {
      "provenance": [],
      "collapsed_sections": [],
      "include_colab_link": true
    },
    "kernelspec": {
      "display_name": "Python 3 (ipykernel)",
      "language": "python",
      "name": "python3"
    },
    "language_info": {
      "codemirror_mode": {
        "name": "ipython",
        "version": 3
      },
      "file_extension": ".py",
      "mimetype": "text/x-python",
      "name": "python",
      "nbconvert_exporter": "python",
      "pygments_lexer": "ipython3",
      "version": "3.8.8"
    }
  },
  "nbformat": 4,
  "nbformat_minor": 0
}